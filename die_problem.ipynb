{
 "cells": [
  {
   "cell_type": "markdown",
   "id": "about-convert",
   "metadata": {},
   "source": [
    "# Problem\n",
    "\n",
    "Consider the following problem:\n",
    "\n",
    "> Suppose we keep rolling a die and after each roll, we write down the total sum of all previous die rolls. For example, if you roll a 5, write down 5. If you then roll a 4, write down 9, etc. Let $f(n)$ be the likelihood that the number $n$ is written down at some point. What is the limit of $f(n)$ as $n$ goes to infinity ?\n",
    "\n",
    "In this notebook, we show how this problem can be solved numerically using the Fourier transform method. There are probably easier solutions (e.g. using recursion) but this is a great example of how the characteristic function can be used to solve probability problems.\n",
    "\n",
    "# Solution\n",
    "\n",
    "Assume we have a fair six-sided die. The probability of obtaining a value $x_k$ on a single roll is denoted\n",
    "\n",
    "\\begin{equation}\n",
    "    P_X(x_k) = p_k.\n",
    "\\end{equation}\n",
    "\n",
    "The probability density function is\n",
    "\n",
    "\\begin{equation}\n",
    "    f_X(x) = \\sum_k p_k \\delta(x - x_k)\n",
    "\\end{equation}\n",
    "\n",
    "where $\\delta(.)$ is the Dirac's delta function.\n",
    "\n",
    "We now want the characteristic function. We obtain it by applying the Fourier transform to $f_X(x)$:\n",
    "\n",
    "\\begin{equation}\n",
    "    \\varphi_X(\\xi) = \\mathscr{F}_{X \\to \\xi} \\left[ f_X(x) \\right] = \\int_{\\mathbb{R}} f_X(x)e^{i \\xi x} = \\sum_k p_k e^{i \\xi x_k}\n",
    "\\end{equation}\n",
    "\n",
    "where $i$ is the imaginary unit. \n",
    "\n",
    "We have $k = 1, 2, ..., 6$ and $x_k = k$. Also, $p_k = \\frac{1}{6}, \\; \\forall k$. Therefore, the characteristic function for a single roll is\n",
    "\n",
    "\\begin{equation}\n",
    "    \\varphi_X(\\xi) = \\frac{1}{6} \\left( e^{i\\xi} + e^{i2\\xi} + e^{i3\\xi} + e^{i4\\xi} + e^{i5\\xi} + e^{i6\\xi} \\right).\n",
    "\\end{equation}\n",
    "\n",
    "Now we want to find the characteristic function for the sum over $n$ rolls. Consider $Y$ such that \n",
    "\n",
    "\\begin{equation}\n",
    "    Y = \\sum_{j=1}^n X_j = X_1 + X_2 + ... + X_n.\n",
    "\\end{equation}\n",
    "\n",
    "The joint probability density function is\n",
    "\n",
    "\\begin{equation}\n",
    "    f_{X_1...X_n}(x_1...x_n) = \\prod_{j = 1}^n f_{X_j}(x_j) = f_{X_1}(x_1)...f_{X_n}(x_n).\n",
    "\\end{equation}\n",
    "\n",
    "Therefore, the characteristic function is \n",
    "\n",
    "\\begin{align}\n",
    "    \\varphi_Y(\\xi) = \\mathbb{E} \\left[ e^{i \\xi y} \\right] &= \\int_{\\mathbb{R}} ... \\int_{\\mathbb{R}} e^{i \\xi \\sum_{j = 1}^n x_j} \\prod_{j = 1}^n f_{X_j}(x_j) dx_1 ... dx_n \\\\\n",
    "    & = \\prod_{j = 1}^n \\int_{\\mathbb{R}} e^{i \\xi x_j} f_{X_j}(x_j)dx_j = \\prod_{j = 1}^n \\varphi_{X_j}(\\xi).\n",
    "\\end{align}\n",
    "\n",
    "Because all the $X_j$ are i.i.d. (independent and identically distributed), we have\n",
    "\n",
    "\\begin{equation}\n",
    "    \\varphi_Y(\\xi) = \\varphi_X^n(\\xi) = \\frac{1}{6^n} \\left( e^{i\\xi} + e^{i2\\xi} + e^{i3\\xi} + e^{i4\\xi} + e^{i5\\xi} + e^{i6\\xi} \\right)^n.\n",
    "\\end{equation}\n",
    "\n",
    "Using the above characteristic function for $Y$, we can already find the probability that the sum obtained by rolling $n$ dice is equal to a number $m$. Taking the inverse Fourier transform, we obtain\n",
    "\n",
    "\\begin{align}\n",
    "    P(Y = m) &= \\frac{1}{2 \\pi} \\int_{- \\pi}^{\\pi} e^{-i \\xi m} \\frac{1}{6^n} \\left( e^{i\\xi} + e^{i2\\xi} + e^{i3\\xi} + e^{i4\\xi} + e^{i5\\xi} + e^{i6\\xi} \\right)^n d\\xi \\\\\n",
    "    &= \\frac{1}{2 \\pi} \\int_{- \\pi}^{\\pi} e^{-i \\xi m} \\frac{1}{6^n} \\left( \\sum_{k = 1}^6 e^{i\\xi k} \\right)^n d\\xi.\n",
    "\\end{align}\n",
    "\n",
    "Note that the bounds of the integral do not need to go from $-\\infty$ to $+\\infty$ because the integrand is oscillatory. The integration is easily done numerically. Let's create a function which computes the probability that the sum over $n$ rolls of a $k$-sided die is $m$."
   ]
  },
  {
   "cell_type": "code",
   "execution_count": 1,
   "id": "random-introduction",
   "metadata": {},
   "outputs": [],
   "source": [
    "import numpy as np\n",
    "import matplotlib.pyplot as plt\n",
    "\n",
    "def proba_sum_die_rolls(n_rolls, target_number, die_faces=6):\n",
    "    n = n_rolls # number of dice rolled (or number of successive rolls of the same die)\n",
    "    m = target_number    \n",
    "    dxi = (2*np.pi)/1000\n",
    "    xi = np.linspace(-np.pi, np.pi, 1001)\n",
    "    \n",
    "    cf_x = 0    \n",
    "    for k in range(1, die_faces + 1):\n",
    "        cf_x += np.exp(1j*k*xi)\n",
    "    cf_x = cf_x/k\n",
    "    p = np.power(cf_x, n) * 1/(2*np.pi) * np.exp(-1j*m*xi)\n",
    "    p = np.real(np.trapz(p*dxi))\n",
    "    \n",
    "    return p"
   ]
  },
  {
   "cell_type": "markdown",
   "id": "southeast-lawrence",
   "metadata": {},
   "source": [
    "Let's try it with an example. Suppose we roll 2 dice and want to know the probability that the sum of the dice is 12. Intuitively, we know the answer is $\\frac{1}{36}$ because there is only one combination that sums up to 12 (i.e., 6 and 6) out of the 36 possibilities."
   ]
  },
  {
   "cell_type": "code",
   "execution_count": 2,
   "id": "yellow-documentary",
   "metadata": {},
   "outputs": [
    {
     "name": "stdout",
     "output_type": "stream",
     "text": [
      "The result is 0.0277777778.\n",
      "True\n"
     ]
    }
   ],
   "source": [
    "# Test with 2 dice and a target number of 12\n",
    "res = proba_sum_die_rolls(2, 12)\n",
    "\n",
    "print(\"The result is \" + str(round(res, 10)) + \".\")\n",
    "print(round(1/36, 10) == round(res, 10)) "
   ]
  },
  {
   "cell_type": "markdown",
   "id": "changed-tobacco",
   "metadata": {},
   "source": [
    "As expected, the result is equal to $\\frac{1}{36}$.\n",
    "\n",
    "In order to solve our original problem, we need to sum the probabilities over the rolls. If $m$ is our target number, the maximum number of rolls that can result in a sum equal to $m$ is $m$ rolls (we get 1 on each roll). Therefore, we find the solution by summing the probabilities for each number of rolls from 1 to $m$. Taking the limit as $m$ goes to infinity, we obtain the solution \n",
    "\n",
    "\\begin{equation}\n",
    "    \\lim_{n \\to \\infty} f(n) = \\lim_{m \\to \\infty} \\sum_{n = 1}^m \\frac{1}{2 \\pi} \\int_{- \\pi}^{\\pi} e^{-i \\xi m} \\frac{1}{6^n} \\left( \\sum_{k = 1}^6 e^{i\\xi k} \\right)^n d\\xi\n",
    "\\end{equation}\n",
    "\n",
    "In order to find the solution numerically, we plot the result for different values of $m$ and investigate if it converges. Let's try with $m = 100$."
   ]
  },
  {
   "cell_type": "code",
   "execution_count": 3,
   "id": "automotive-communications",
   "metadata": {},
   "outputs": [
    {
     "data": {
      "image/png": "[encoded data removed]",
      "text/plain": [
       "<Figure size 432x288 with 1 Axes>"
      ]
     },
     "metadata": {
      "needs_background": "light"
     },
     "output_type": "display_data"
    }
   ],
   "source": [
    "# Test if the algorithm converges with m = 100\n",
    "m = 100\n",
    "res_list = []\n",
    "\n",
    "# For each value of m, sum the probabilities of obtaining m for each value of n (from 1 to n)\n",
    "for m in range(1, 101):\n",
    "    res = 0\n",
    "    for n in range(1, m+1):\n",
    "        res += proba_sum_die_rolls(n, m)\n",
    "    res_list.append(res)\n",
    "\n",
    "# Plot for visual inspection of convergence    \n",
    "plt.plot(res_list);"
   ]
  },
  {
   "cell_type": "markdown",
   "id": "mexican-atlas",
   "metadata": {},
   "source": [
    "The algorithm seems to converge. Let's print the last values that we obtained."
   ]
  },
  {
   "cell_type": "code",
   "execution_count": 4,
   "id": "compound-white",
   "metadata": {},
   "outputs": [
    {
     "name": "stdout",
     "output_type": "stream",
     "text": [
      "[0.2857142857142768, 0.2857142857142979, 0.2857142857143002, 0.2857142857142904, 0.28571428571428337]\n"
     ]
    }
   ],
   "source": [
    "print(res_list[-5:])"
   ]
  },
  {
   "cell_type": "markdown",
   "id": "suited-breakdown",
   "metadata": {},
   "source": [
    "Rounded to 10 digits, the algorithm has converged to a value of 0.2857142857. It is actually equal to $\\frac{2}{7}$ and this is the solution to our problem."
   ]
  }
 ],
 "metadata": {
  "authors": [
   {
    "email": "robin.guilliou@gmail.com",
    "name": "Robin Guilliou"
   }
  ],
  "kernelspec": {
   "display_name": "Python 3 (ipykernel)",
   "language": "python",
   "name": "python3"
  },
  "language_info": {
   "codemirror_mode": {
    "name": "ipython",
    "version": 3
   },
   "file_extension": ".py",
   "mimetype": "text/x-python",
   "name": "python",
   "nbconvert_exporter": "python",
   "pygments_lexer": "ipython3",
   "version": "3.7.11"
  },
  "latex_envs": {
   "LaTeX_envs_menu_present": true,
   "autoclose": false,
   "autocomplete": true,
   "bibliofile": "biblio.bib",
   "cite_by": "apalike",
   "current_citInitial": 1,
   "eqLabelWithNumbers": true,
   "eqNumInitial": 1,
   "hotkeys": {
    "equation": "Ctrl-E",
    "itemize": "Ctrl-I"
   },
   "labels_anchors": false,
   "latex_user_defs": false,
   "report_style_numbering": false,
   "user_envs_cfg": false
  },
  "toc": {
   "base_numbering": 1,
   "nav_menu": {},
   "number_sections": true,
   "sideBar": true,
   "skip_h1_title": false,
   "title_cell": "Table of Contents",
   "title_sidebar": "Contents",
   "toc_cell": false,
   "toc_position": {},
   "toc_section_display": true,
   "toc_window_display": false
  },
  "varInspector": {
   "cols": {
    "lenName": 16,
    "lenType": 16,
    "lenVar": 40
   },
   "kernels_config": {
    "python": {
     "delete_cmd_postfix": "",
     "delete_cmd_prefix": "del ",
     "library": "var_list.py",
     "varRefreshCmd": "print(var_dic_list())"
    },
    "r": {
     "delete_cmd_postfix": ") ",
     "delete_cmd_prefix": "rm(",
     "library": "var_list.r",
     "varRefreshCmd": "cat(var_dic_list()) "
    }
   },
   "types_to_exclude": [
    "module",
    "function",
    "builtin_function_or_method",
    "instance",
    "_Feature"
   ],
   "window_display": false
  }
 },
 "nbformat": 4,
 "nbformat_minor": 5
}
